{
 "cells": [
  {
   "cell_type": "code",
   "execution_count": 22,
   "metadata": {},
   "outputs": [],
   "source": [
    "from bs4 import BeautifulSoup\n",
    "import pandas as pd\n",
    "import numpy as np"
   ]
  },
  {
   "cell_type": "code",
   "execution_count": 23,
   "metadata": {},
   "outputs": [],
   "source": [
    "#获取商品信息函数\n",
    "def get_produce_html_value(local_html):\n",
    "    soup = BeautifulSoup(local_html,'lxml')\n",
    "    produce_lists = []\n",
    "    for product in soup.find_all(class_=\"gl-item\"):\n",
    "        try:\n",
    "            # 解析商品信息\n",
    "            produce_list = []\n",
    "            product_url = product.find(class_='p-img').a['href']\n",
    "            product_price = product.find(class_='p-price').find(\"i\").string\n",
    "            #produce_vipprice = product.find(class_='p-price').find(class_=\"price-plus-1\").find(\"em\").string\n",
    "            produce_title = product.find(class_='p-name p-name-type-2').a.i.string\n",
    "            produce_common = product.find(class_='p-commit').strong.a.string\n",
    "            produce_shopname = product.find(class_='p-shop').span.a.string\n",
    "            product_ion = \"\"\n",
    "            for string in product.find(class_='p-icons').stripped_strings:\n",
    "                product_ion += repr(string)\n",
    "            #获取商品信息\n",
    "\n",
    "            produce_list.append(produce_title)\n",
    "            produce_list.append(product_url)\n",
    "            produce_list.append(product_price)\n",
    "#             produce_list.append(produce_vipprice)\n",
    "            produce_list.append(produce_common)\n",
    "            produce_list.append(produce_shopname)\n",
    "            produce_list.append(product_ion)\n",
    "            produce_lists.append(produce_list)\n",
    "        except:\n",
    "            continue\n",
    "    return produce_lists"
   ]
  },
  {
   "cell_type": "code",
   "execution_count": null,
   "metadata": {},
   "outputs": [],
   "source": []
  },
  {
   "cell_type": "code",
   "execution_count": null,
   "metadata": {},
   "outputs": [],
   "source": []
  },
  {
   "cell_type": "code",
   "execution_count": 24,
   "metadata": {},
   "outputs": [],
   "source": [
    "def get_anlysis_produces(filepath):\n",
    "    with open(filepath,'r') as f:\n",
    "        local_html = f.read()\n",
    "        produce_lists = get_produce_html_value(local_html)\n",
    "    return pd.DataFrame(produce_lists)\n",
    "    "
   ]
  },
  {
   "cell_type": "code",
   "execution_count": 25,
   "metadata": {},
   "outputs": [
    {
     "name": "stdout",
     "output_type": "stream",
     "text": [
      "./camera/1.htm\n",
      "./camera/2.htm\n",
      "./camera/3.htm\n",
      "./camera/4.htm\n",
      "./camera/5.htm\n",
      "./camera/6.htm\n",
      "./camera/7.htm\n",
      "./camera/8.htm\n",
      "./camera/9.htm\n",
      "./camera/10.htm\n",
      "./camera/11.htm\n",
      "./camera/12.htm\n",
      "./camera/13.htm\n",
      "./camera/14.htm\n",
      "./camera/15.htm\n",
      "./camera/16.htm\n",
      "./camera/17.htm\n"
     ]
    }
   ],
   "source": [
    "all_produce = pd.DataFrame()\n",
    "for page in range(1,18):\n",
    "    try:\n",
    "        filepath = './camera/'+str(page)+'.htm'\n",
    "        print(filepath)\n",
    "        all_produce = all_produce.append(get_anlysis_produces(filepath))\n",
    "    except:\n",
    "        pass"
   ]
  },
  {
   "cell_type": "code",
   "execution_count": 26,
   "metadata": {},
   "outputs": [],
   "source": [
    "all_produce.reset_index(drop=True).to_csv(\"./camera.csv\",index=False)"
   ]
  },
  {
   "cell_type": "code",
   "execution_count": null,
   "metadata": {},
   "outputs": [],
   "source": []
  },
  {
   "cell_type": "code",
   "execution_count": null,
   "metadata": {},
   "outputs": [],
   "source": []
  }
 ],
 "metadata": {
  "kernelspec": {
   "display_name": "Python 3",
   "language": "python",
   "name": "python3"
  },
  "language_info": {
   "codemirror_mode": {
    "name": "ipython",
    "version": 3
   },
   "file_extension": ".py",
   "mimetype": "text/x-python",
   "name": "python",
   "nbconvert_exporter": "python",
   "pygments_lexer": "ipython3",
   "version": "3.7.3"
  }
 },
 "nbformat": 4,
 "nbformat_minor": 2
}
